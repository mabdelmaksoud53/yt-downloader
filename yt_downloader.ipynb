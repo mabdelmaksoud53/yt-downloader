{
  "nbformat": 4,
  "nbformat_minor": 0,
  "metadata": {
    "colab": {
      "provenance": []
    },
    "kernelspec": {
      "name": "python3",
      "display_name": "Python 3"
    },
    "language_info": {
      "name": "python"
    }
  },
  "cells": [
    {
      "cell_type": "markdown",
      "source": [
        "# YouTube Video & Playlist Downloader\n",
        "\n",
        "A simple Python script to download YouTube videos and playlists using `yt-dlp`.\n",
        "\n",
        "## Features\n",
        "\n",
        "- Download individual YouTube videos\n",
        "- Download entire playlists\n",
        "- Fast and efficient downloading\n",
        "\n",
        "---\n",
        "\n",
        "## Installation\n",
        "\n",
        "1. Clone this repository:\n",
        "\n",
        "   ```sh\n",
        "   !git clone https://github.com/mabdelmakosud53/yt-downloader.git\n",
        "   %cd yt-downloader\n",
        "   ```\n",
        "\n",
        "2. Install dependencies:\n",
        "\n",
        "   ```sh\n",
        "   !pip install -r requirements.txt\n",
        "   ```\n",
        "## Usage\n",
        "\n",
        "3. Run the script with:\n",
        "\n",
        "  ```sh\n",
        "  !python main.py\n",
        "```\n",
        "\n",
        "---\n",
        "## Notes for Colab Users:\n",
        "\n",
        "- Downloaded Files: The downloaded videos or playlists will be saved in the Colab environment.\n",
        "- You can download them to your local machine using the file browser on the left-hand side.\n",
        "\n",
        "Customization: You can easily modify the script within the notebook to suit your needs, such as changing the output format or specifying additional download options.\n",
        "\n",
        "## Credits\n",
        "\n",
        "Developed by [Mostafa S. Abd El-Maksoud](https://www.github.com/mabdelmakosud53)\n",
        "\n",
        "---\n",
        "\n",
        "Last Updated: March 5, 2025\n"
      ],
      "metadata": {
        "id": "IxXEo3YL2gpu"
      }
    },
    {
      "cell_type": "code",
      "execution_count": null,
      "metadata": {
        "id": "AokL5wob2O-l"
      },
      "outputs": [],
      "source": [
        "!git clone https://github.com/mabdelmaksoud53/yt-downloader"
      ]
    },
    {
      "cell_type": "code",
      "source": [
        "%cd yt-downloader"
      ],
      "metadata": {
        "id": "u3zyBk7w4nyx"
      },
      "execution_count": null,
      "outputs": []
    },
    {
      "cell_type": "code",
      "source": [
        "!pip install -r requirments.txt"
      ],
      "metadata": {
        "id": "rW_r7lut4q3J"
      },
      "execution_count": null,
      "outputs": []
    },
    {
      "cell_type": "code",
      "source": [
        "!python main.py"
      ],
      "metadata": {
        "id": "YyJG9U1k4toe"
      },
      "execution_count": null,
      "outputs": []
    }
  ]
}